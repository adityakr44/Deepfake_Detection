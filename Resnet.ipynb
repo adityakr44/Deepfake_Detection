{
 "cells": [
  {
   "cell_type": "code",
   "execution_count": 1,
   "id": "bfd140ec-3523-462c-be25-4714ec629410",
   "metadata": {},
   "outputs": [],
   "source": [
    "import os\n",
    "import tensorflow as tf\n",
    "import numpy as np\n",
    "import matplotlib.pyplot as plt\n",
    "import seaborn as sn\n",
    "import pandas as pd\n",
    "import random\n",
    "from tensorflow.keras.preprocessing.image import img_to_array, load_img\n",
    "from tensorflow.keras.models import load_model\n",
    "from sklearn.metrics import confusion_matrix"
   ]
  },
  {
   "cell_type": "code",
   "execution_count": 2,
   "id": "d5c49031-2613-487f-9408-e0fb59b00e60",
   "metadata": {},
   "outputs": [],
   "source": [
    "img_shape = 128\n",
    "input_shape = (img_shape, img_shape, 3)\n",
    "EPOCHS = 10\n",
    "BATCH_SIZE = 32"
   ]
  },
  {
   "cell_type": "code",
   "execution_count": 3,
   "id": "295fa601-1135-41b1-bb4d-4f8785375053",
   "metadata": {},
   "outputs": [],
   "source": [
    "def process_path(file_path):\n",
    "    label = tf.strings.split(file_path, os.path.sep)[-2]\n",
    "    label_arr = None\n",
    "    if label == 'fake':\n",
    "        label_arr = 0\n",
    "    else:\n",
    "        label_arr = 1\n",
    "    img = tf.io.read_file(file_path)\n",
    "    img = tf.image.decode_jpeg(img)\n",
    "    img = tf.image.resize(img, [img_shape, img_shape])\n",
    "    img = tf.image.convert_image_dtype(img, tf.float32)\n",
    "    return (img, label_arr)\n",
    "\n",
    "def scale(image, label):\n",
    "    return (image / 255, label)\n",
    "\n",
    "train_ds = tf.data.Dataset.list_files('1frame/train/*/*')\n",
    "test_ds = tf.data.Dataset.list_files('1frame/test/*/*')\n",
    "val_ds = tf.data.Dataset.list_files('1frame/valid/*/*')\n",
    "\n",
    "train_size = len(train_ds)\n",
    "val_size = len(val_ds)\n",
    "\n",
    "train_ds = train_ds.shuffle(train_size).map(process_path, num_parallel_calls = tf.data.AUTOTUNE).map(scale, num_parallel_calls = tf.data.AUTOTUNE).batch(BATCH_SIZE).repeat(EPOCHS).prefetch(tf.data.AUTOTUNE)\n",
    "val_ds = val_ds.shuffle(val_size).map(process_path, num_parallel_calls = tf.data.AUTOTUNE).map(scale, num_parallel_calls = tf.data.AUTOTUNE).batch(BATCH_SIZE).prefetch(tf.data.AUTOTUNE)\n",
    "test_ds = test_ds.shuffle(val_size).map(process_path, num_parallel_calls = tf.data.AUTOTUNE).map(scale, num_parallel_calls = tf.data.AUTOTUNE).batch(BATCH_SIZE).prefetch(tf.data.AUTOTUNE)"
   ]
  },
  {
   "cell_type": "code",
   "execution_count": 4,
   "id": "2e37e7b0-8227-41d9-a187-8ff4c6d3d4f5",
   "metadata": {},
   "outputs": [],
   "source": [
    "from tensorflow.keras.applications import InceptionResNetV2, ResNet50\n",
    "from tensorflow.keras.layers import Conv2D, BatchNormalization, Input, LeakyReLU, Concatenate\n",
    "from tensorflow.keras.layers import MaxPooling2D\n",
    "from tensorflow.keras.layers import Flatten\n",
    "from tensorflow.keras.layers import Dense\n",
    "from tensorflow.keras.layers import Dropout\n",
    "from tensorflow.keras.layers import InputLayer, Rescaling\n",
    "from tensorflow.keras.layers import GlobalAveragePooling2D\n",
    "from tensorflow.keras.models import Sequential\n",
    "from tensorflow.keras.models import Model\n",
    "from tensorflow.keras import optimizers\n",
    "from tensorflow.keras.callbacks import ReduceLROnPlateau, EarlyStopping, ModelCheckpoint"
   ]
  },
  {
   "cell_type": "code",
   "execution_count": 8,
   "id": "52cf5356-fa25-42dd-9578-109e99623c92",
   "metadata": {},
   "outputs": [],
   "source": [
    "inception_resnet = ResNet50(include_top = False, weights = 'imagenet', input_shape = input_shape)\n",
    "inception_resnet.trainable = True\n",
    "model = Sequential()\n",
    "model.add(inception_resnet)\n",
    "model.add(GlobalAveragePooling2D())\n",
    "model.add(Dense(units = 16, activation = 'relu'))\n",
    "model.add(Dense(units = 1, activation = 'sigmoid'))"
   ]
  },
  {
   "cell_type": "code",
   "execution_count": 9,
   "id": "2626a8df-18ad-4252-930e-1e9234f29bb6",
   "metadata": {},
   "outputs": [
    {
     "name": "stdout",
     "output_type": "stream",
     "text": [
      "Model: \"sequential_1\"\n",
      "_________________________________________________________________\n",
      "Layer (type)                 Output Shape              Param #   \n",
      "=================================================================\n",
      "resnet50 (Functional)        (None, 4, 4, 2048)        23587712  \n",
      "_________________________________________________________________\n",
      "global_average_pooling2d_1 ( (None, 2048)              0         \n",
      "_________________________________________________________________\n",
      "dense_2 (Dense)              (None, 16)                32784     \n",
      "_________________________________________________________________\n",
      "dense_3 (Dense)              (None, 1)                 17        \n",
      "=================================================================\n",
      "Total params: 23,620,513\n",
      "Trainable params: 23,567,393\n",
      "Non-trainable params: 53,120\n",
      "_________________________________________________________________\n"
     ]
    }
   ],
   "source": [
    "model.compile(loss = 'binary_crossentropy', optimizer = optimizers.Adam(learning_rate = 1e-3), metrics = ['accuracy'])\n",
    "model.summary()"
   ]
  },
  {
   "cell_type": "code",
   "execution_count": 10,
   "id": "9fcc5da1-9acc-43b2-8f20-846a0584314e",
   "metadata": {},
   "outputs": [
    {
     "name": "stdout",
     "output_type": "stream",
     "text": [
      "Epoch 1/10\n",
      "4894/4894 [==============================] - 534s 107ms/step - loss: 0.5375 - accuracy: 0.7277 - val_loss: 0.8396 - val_accuracy: 0.6600\n",
      "\n",
      "Epoch 00001: val_loss improved from inf to 0.83956, saving model to checkpoints\\best_resnet_1frame.hdf5\n"
     ]
    },
    {
     "name": "stderr",
     "output_type": "stream",
     "text": [
      "C:\\Python39\\lib\\site-packages\\keras\\utils\\generic_utils.py:494: CustomMaskWarning: Custom mask layers require a config and must override get_config. When loading, the custom mask layer must be passed to the custom_objects argument.\n",
      "  warnings.warn('Custom mask layers require a config and must override '\n"
     ]
    },
    {
     "name": "stdout",
     "output_type": "stream",
     "text": [
      "Epoch 2/10\n",
      "4894/4894 [==============================] - 532s 109ms/step - loss: 0.3054 - accuracy: 0.8733 - val_loss: 0.7303 - val_accuracy: 0.6576\n",
      "\n",
      "Epoch 00002: val_loss improved from 0.83956 to 0.73026, saving model to checkpoints\\best_resnet_1frame.hdf5\n",
      "Epoch 3/10\n",
      "4894/4894 [==============================] - 544s 111ms/step - loss: 0.2043 - accuracy: 0.9229 - val_loss: 1.1258 - val_accuracy: 0.5133\n",
      "\n",
      "Epoch 00003: val_loss did not improve from 0.73026\n",
      "Epoch 4/10\n",
      "4894/4894 [==============================] - 540s 110ms/step - loss: 0.1653 - accuracy: 0.9389 - val_loss: 1.1283 - val_accuracy: 0.5213\n",
      "\n",
      "Epoch 00004: val_loss did not improve from 0.73026\n",
      "Epoch 5/10\n",
      "4894/4894 [==============================] - 542s 111ms/step - loss: 0.1414 - accuracy: 0.9472 - val_loss: 1.1225 - val_accuracy: 0.6048\n",
      "\n",
      "Epoch 00005: val_loss did not improve from 0.73026\n",
      "\n",
      "Epoch 00005: ReduceLROnPlateau reducing learning rate to 0.00020000000949949026.\n",
      "Epoch 6/10\n",
      "4894/4894 [==============================] - 541s 111ms/step - loss: 0.0825 - accuracy: 0.9699 - val_loss: 0.8055 - val_accuracy: 0.7089\n",
      "\n",
      "Epoch 00006: val_loss did not improve from 0.73026\n",
      "Epoch 7/10\n",
      "4894/4894 [==============================] - 567s 116ms/step - loss: 0.0645 - accuracy: 0.9764 - val_loss: 1.2946 - val_accuracy: 0.6224\n",
      "\n",
      "Epoch 00007: val_loss did not improve from 0.73026\n",
      "Epoch 8/10\n",
      "4894/4894 [==============================] - 575s 118ms/step - loss: 0.0530 - accuracy: 0.9809 - val_loss: 1.1831 - val_accuracy: 0.6386\n",
      "\n",
      "Epoch 00008: val_loss did not improve from 0.73026\n",
      "\n",
      "Epoch 00008: ReduceLROnPlateau reducing learning rate to 0.0001.\n",
      "Epoch 9/10\n",
      "4894/4894 [==============================] - 518s 106ms/step - loss: 0.0355 - accuracy: 0.9876 - val_loss: 1.2381 - val_accuracy: 0.6837\n",
      "\n",
      "Epoch 00009: val_loss did not improve from 0.73026\n",
      "Epoch 10/10\n",
      "4894/4894 [==============================] - 530s 108ms/step - loss: 0.0281 - accuracy: 0.9900 - val_loss: 1.8678 - val_accuracy: 0.6116\n",
      "\n",
      "Epoch 00010: val_loss did not improve from 0.73026\n"
     ]
    }
   ],
   "source": [
    "checkpoint_callback = ModelCheckpoint(\n",
    "    filepath = 'checkpoints/best_resnet_1frame.hdf5',\n",
    "    monitor = 'val_loss',\n",
    "    verbose = 1,\n",
    "    save_best_only = True,\n",
    "    mode = 'min')\n",
    "\n",
    "reduce_lr = ReduceLROnPlateau(monitor = 'val_loss', \n",
    "                              factor = 0.2,\n",
    "                              patience = 3,\n",
    "                              verbose = 1,\n",
    "                              min_lr = 0.0001)\n",
    "\n",
    "STEPS = train_size // BATCH_SIZE\n",
    "callbacks = [checkpoint_callback, reduce_lr]\n",
    "history = model.fit(train_ds, batch_size = BATCH_SIZE, steps_per_epoch = STEPS, epochs = EPOCHS, callbacks = callbacks, validation_data = val_ds, verbose = 1)"
   ]
  },
  {
   "cell_type": "code",
   "execution_count": 11,
   "id": "b2f28945-8082-4564-96e0-09bcc3524d79",
   "metadata": {
    "tags": []
   },
   "outputs": [
    {
     "name": "stdout",
     "output_type": "stream",
     "text": [
      "INFO:tensorflow:Assets written to: models/resnet_1frame\\assets\n"
     ]
    },
    {
     "name": "stderr",
     "output_type": "stream",
     "text": [
      "C:\\Python39\\lib\\site-packages\\keras\\utils\\generic_utils.py:494: CustomMaskWarning: Custom mask layers require a config and must override get_config. When loading, the custom mask layer must be passed to the custom_objects argument.\n",
      "  warnings.warn('Custom mask layers require a config and must override '\n"
     ]
    },
    {
     "data": {
      "image/png": "[encoded data removed]",
      "text/plain": [
       "<Figure size 1440x288 with 2 Axes>"
      ]
     },
     "metadata": {
      "needs_background": "light"
     },
     "output_type": "display_data"
    }
   ],
   "source": [
    "model.save('models/resnet_1frame')\n",
    "\n",
    "f, (ax1, ax2) = plt.subplots(1, 2, figsize = (20, 4))\n",
    "t = f.suptitle('ResNet50 on Kaggle Dataset 1frame', fontsize = 12)\n",
    "f.subplots_adjust(top = 0.85, wspace = 0.3)\n",
    "\n",
    "epoch_list = list(range(1, EPOCHS + 1))\n",
    "ax1.plot(epoch_list, history.history['accuracy'], label = 'Train Accuracy')\n",
    "ax1.plot(epoch_list, history.history['val_accuracy'], label = 'Validation Accuracy')\n",
    "ax1.set_xticks(np.arange(0, EPOCHS + 1, 1))\n",
    "ax1.set_ylabel('Accuracy Value')\n",
    "ax1.set_xlabel('Epoch #')\n",
    "ax1.set_title('Accuracy')\n",
    "l1 = ax1.legend(loc=\"best\")\n",
    "\n",
    "ax2.plot(epoch_list, history.history['loss'], label = 'Train Loss')\n",
    "ax2.plot(epoch_list, history.history['val_loss'], label = 'Validation Loss')\n",
    "ax2.set_xticks(np.arange(0, EPOCHS + 1, 1))\n",
    "ax2.set_ylabel('Loss Value')\n",
    "ax2.set_xlabel('Epoch #')\n",
    "ax2.set_title('Loss')\n",
    "l2 = ax2.legend(loc = \"best\")"
   ]
  },
  {
   "cell_type": "code",
   "execution_count": 12,
   "id": "1189e77f-a598-4073-890b-c4b745b82ee6",
   "metadata": {},
   "outputs": [
    {
     "name": "stdout",
     "output_type": "stream",
     "text": [
      "612/612 [==============================] - 20s 32ms/step - loss: 0.7168 - accuracy: 0.8208\n",
      "['loss', 'accuracy']\n",
      "[0.7167985439300537, 0.8208009600639343]\n"
     ]
    }
   ],
   "source": [
    "results = model.evaluate(test_ds)\n",
    "print(model.metrics_names)\n",
    "print(results)"
   ]
  },
  {
   "cell_type": "code",
   "execution_count": 3,
   "id": "125004f4-2f95-487e-b905-37962d9bed3a",
   "metadata": {},
   "outputs": [
    {
     "name": "stdout",
     "output_type": "stream",
     "text": [
      "True positive =  106\n",
      "False positive =  22\n",
      "False negative =  25\n",
      "True negative =  103\n",
      "Precision =  0.828125\n",
      "Recall =  0.8091603053435115\n",
      "Fscore =  0.8185328185328186\n",
      "\n",
      "\n"
     ]
    },
    {
     "data": {
      "image/png": "[encoded data removed]",
      "text/plain": [
       "<Figure size 432x288 with 2 Axes>"
      ]
     },
     "metadata": {
      "needs_background": "light"
     },
     "output_type": "display_data"
    }
   ],
   "source": [
    "#Output confusion matrix\n",
    "def print_confusion_matrix(y_true, y_pred):\n",
    "    cm = confusion_matrix(y_true, y_pred)\n",
    "    tp = cm[0][0]\n",
    "    fp = cm[0][1]\n",
    "    fn = cm[1][0]\n",
    "    tn = cm[1][1]\n",
    "    precision = tp / (tp + fp)\n",
    "    recall = tp / (tp + fn)\n",
    "    fscore = (2 * precision * recall) / (precision + recall)\n",
    "    print('True positive = ', tp)\n",
    "    print('False positive = ', fp)\n",
    "    print('False negative = ', fn)\n",
    "    print('True negative = ', tn)\n",
    "    print('Precision = ', precision)\n",
    "    print('Recall = ', recall)\n",
    "    print('Fscore = ', fscore)\n",
    "    print('\\n')\n",
    "    df_cm = pd.DataFrame(cm, range(2), range(2))\n",
    "    sn.set(font_scale=1.4) # for label size\n",
    "    sn.heatmap(df_cm, annot=True, annot_kws={\"size\": 16}) # font size\n",
    "    plt.ylabel('Actual label', size = 20)\n",
    "    plt.xlabel('Predicted label', size = 20)\n",
    "    plt.xticks(np.arange(2), ['Fake', 'Real'], size = 16)\n",
    "    plt.yticks(np.arange(2), ['Fake', 'Real'], size = 16)\n",
    "    plt.ylim([2, 0])\n",
    "    plt.show()\n",
    "    \n",
    "def process_path(file_path):\n",
    "    img = tf.io.read_file(file_path)\n",
    "    img = tf.image.decode_jpeg(img)\n",
    "    img = tf.image.resize(img, [img_shape, img_shape])\n",
    "    img = tf.image.convert_image_dtype(img, tf.float32)\n",
    "    return img\n",
    "\n",
    "def scale(image):\n",
    "    return (image / 255)\n",
    "    \n",
    "model = load_model('models/resnet_1frame')\n",
    "data_dir = '1frame/test'\n",
    "real_data = [f for f in os.listdir(data_dir+'/real') if f.endswith('.png')]\n",
    "fake_data = [f for f in os.listdir(data_dir+'/fake') if f.endswith('.png')]\n",
    "real_data = random.sample(real_data, 128)\n",
    "fake_data = random.sample(fake_data, 128)\n",
    "X = []\n",
    "Y = []\n",
    "for img in real_data:\n",
    "    res = scale(process_path(data_dir+'/real/'+img))\n",
    "    X.append(res)\n",
    "    Y.append(1)\n",
    "for img in fake_data:\n",
    "    res = scale(process_path(data_dir+'/fake/'+img))\n",
    "    X.append(res)\n",
    "    Y.append(0)\n",
    "X = np.array(X)\n",
    "X = X.reshape(-1, 128, 128, 3)\n",
    "Y_true = Y\n",
    "Y_pred = model.predict(X)\n",
    "\n",
    "print_confusion_matrix(Y_true, np.round(Y_pred))"
   ]
  }
 ],
 "metadata": {
  "kernelspec": {
   "display_name": "Python 3 (ipykernel)",
   "language": "python",
   "name": "python3"
  },
  "language_info": {
   "codemirror_mode": {
    "name": "ipython",
    "version": 3
   },
   "file_extension": ".py",
   "mimetype": "text/x-python",
   "name": "python",
   "nbconvert_exporter": "python",
   "pygments_lexer": "ipython3",
   "version": "3.9.7"
  },
  "vscode": {
   "interpreter": {
    "hash": "81794d4967e6c3204c66dcd87b604927b115b27c00565d3d43f05ba2f3a2cb0d"
   }
  }
 },
 "nbformat": 4,
 "nbformat_minor": 5
}
